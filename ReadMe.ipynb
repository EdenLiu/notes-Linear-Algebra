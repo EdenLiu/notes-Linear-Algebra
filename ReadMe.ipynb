{
 "cells": [
  {
   "cell_type": "markdown",
   "metadata": {},
   "source": [
    "# 线性代数笔记"
   ]
  },
  {
   "cell_type": "markdown",
   "metadata": {},
   "source": [
    "## 简介"
   ]
  },
  {
   "cell_type": "markdown",
   "metadata": {},
   "source": [
    "> 作者：刘维<br>\n",
    "\n",
    "线性代数笔记，使用*jupyter notebook (ipython notebook)*编写展示，\n",
    "Github加载.ipynb是速度较慢，建议在[Nbviewer](http://nbviewer.jupyter.org/github/EdenLiu/notes-Linear-Algebra/blob/master/ReadMe.ipynb)上查看该项目\n"
   ]
  },
  {
   "cell_type": "markdown",
   "metadata": {},
   "source": [
    "------"
   ]
  },
  {
   "cell_type": "markdown",
   "metadata": {},
   "source": [
    "## 目录\n",
    "来自MIT，Gilbert Strang教授的线性代数课程笔记，可以在[麻省理工公开课：线性代数](http://open.163.com/special/opencourse/daishu.html)观看。\n",
    "\n",
    "- 第一课 [方程组的几何解释](chapter01.ipynb)\n",
    "- 第二课 [矩阵消元](chapter02.ipynb)\n",
    "- 第三课 [乘法和逆矩阵](chapter03.ipynb)\n",
    "- 第四课 [A的LU分解](chapter04.ipynb)\n",
    "- 第五课 [转置-置换-向量空间R](chapter05.ipynb)",
    "\n",
    "笔记格式借鉴[子实](https://github.com/zlotus/)的[线性代数笔记](http://nbviewer.jupyter.org/github/zlotus/notes-linear-algebra/blob/master/ReadMe.ipynb?flush_cache=true)."
   ]
  }
 ],
 "metadata": {
  "kernelspec": {
   "display_name": "Python 3",
   "language": "python",
   "name": "python3"
  },
  "language_info": {
   "codemirror_mode": {
    "name": "ipython",
    "version": 3
   },
   "file_extension": ".py",
   "mimetype": "text/x-python",
   "name": "python",
   "nbconvert_exporter": "python",
   "pygments_lexer": "ipython3",
   "version": "3.6.0"
  }
 },
 "nbformat": 4,
 "nbformat_minor": 2
}
